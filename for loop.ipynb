{
 "cells": [
  {
   "cell_type": "code",
   "execution_count": 1,
   "id": "a7524c13-9b5a-4320-b44d-ff3f9d3b450c",
   "metadata": {},
   "outputs": [],
   "source": [
    "l=[1,2,3,4,5]"
   ]
  },
  {
   "cell_type": "code",
   "execution_count": 3,
   "id": "a7a39805-7e8a-4c98-8e14-97559716195a",
   "metadata": {},
   "outputs": [
    {
     "name": "stdout",
     "output_type": "stream",
     "text": [
      "1 <class 'int'>\n",
      "2 <class 'int'>\n",
      "3 <class 'int'>\n",
      "4 <class 'int'>\n",
      "5 <class 'int'>\n"
     ]
    }
   ],
   "source": [
    "for i in l :\n",
    "    print(i , type(i))"
   ]
  },
  {
   "cell_type": "code",
   "execution_count": 9,
   "id": "517b3af6-1029-473a-8845-50c452542649",
   "metadata": {},
   "outputs": [],
   "source": [
    "l1 = [\"sidd\" , \"sharma\" , \"krish\" ,\"naik\"]"
   ]
  },
  {
   "cell_type": "code",
   "execution_count": 10,
   "id": "476a6621-7987-4d94-9481-3f629dd8b56f",
   "metadata": {},
   "outputs": [
    {
     "name": "stdout",
     "output_type": "stream",
     "text": [
      "sidd\n",
      "sharma\n",
      "krish\n",
      "naik\n"
     ]
    }
   ],
   "source": [
    "for i in l1 :\n",
    "    print(i)"
   ]
  },
  {
   "cell_type": "code",
   "execution_count": 11,
   "id": "7a1a9c65-35f6-4efe-9e50-c5edcebb9869",
   "metadata": {},
   "outputs": [
    {
     "data": {
      "text/plain": [
       "['sidd', 'sharma', 'krish', 'naik']"
      ]
     },
     "execution_count": 11,
     "metadata": {},
     "output_type": "execute_result"
    }
   ],
   "source": [
    "l1"
   ]
  },
  {
   "cell_type": "code",
   "execution_count": 15,
   "id": "1b0ac486-d5a8-47da-8dc8-bdfae677b46e",
   "metadata": {},
   "outputs": [
    {
     "name": "stdout",
     "output_type": "stream",
     "text": [
      "sidd\n",
      "sharma\n",
      "krish\n",
      "naik\n",
      "if for loop is able to complete itself ten only else execte\n"
     ]
    }
   ],
   "source": [
    "for i in l1 :\n",
    "    print(i)\n",
    "else :\n",
    "    print(\"if for loop is able to complete itself ten only else execte\")"
   ]
  },
  {
   "cell_type": "code",
   "execution_count": 16,
   "id": "30ea1150-3f36-4e83-9a68-7561d10f121e",
   "metadata": {},
   "outputs": [
    {
     "data": {
      "text/plain": [
       "['sidd', 'sharma', 'krish', 'naik']"
      ]
     },
     "execution_count": 16,
     "metadata": {},
     "output_type": "execute_result"
    }
   ],
   "source": [
    "l1"
   ]
  },
  {
   "cell_type": "code",
   "execution_count": 25,
   "id": "bd6fa187-dfd3-487b-884b-f82cc137d9a7",
   "metadata": {},
   "outputs": [
    {
     "name": "stdout",
     "output_type": "stream",
     "text": [
      "sidd\n"
     ]
    }
   ],
   "source": [
    "for i in l1:\n",
    "    if i == \"sharma\":\n",
    "        break\n",
    "    print(i)"
   ]
  },
  {
   "cell_type": "code",
   "execution_count": 26,
   "id": "c89dbdb5-4984-40b0-86e6-15a98602ce7f",
   "metadata": {},
   "outputs": [
    {
     "data": {
      "text/plain": [
       "['sidd', 'sharma', 'krish', 'naik']"
      ]
     },
     "execution_count": 26,
     "metadata": {},
     "output_type": "execute_result"
    }
   ],
   "source": [
    "l1"
   ]
  },
  {
   "cell_type": "code",
   "execution_count": 27,
   "id": "f38d19f5-c925-4bb4-89d8-f62c5f2ac283",
   "metadata": {},
   "outputs": [
    {
     "name": "stdout",
     "output_type": "stream",
     "text": [
      "sidd\n"
     ]
    }
   ],
   "source": [
    "for i in l1 :\n",
    "    if i == \"sharma\":\n",
    "        break\n",
    "    print(i)\n",
    "else :\n",
    "print(\"execute tis if for loop is able to complete itself\")\n",
    "        "
   ]
  },
  {
   "cell_type": "code",
   "execution_count": 29,
   "id": "41b6d2c0-512a-4c69-8033-82825e93ce44",
   "metadata": {},
   "outputs": [
    {
     "data": {
      "text/plain": [
       "['sidd', 'sharma', 'krish', 'naik']"
      ]
     },
     "execution_count": 29,
     "metadata": {},
     "output_type": "execute_result"
    }
   ],
   "source": [
    "l1"
   ]
  },
  {
   "cell_type": "code",
   "execution_count": 30,
   "id": "2aac5216-6ed4-4b4a-8ef6-80320c6b41c4",
   "metadata": {},
   "outputs": [
    {
     "name": "stdout",
     "output_type": "stream",
     "text": [
      "sidd\n",
      "krish\n",
      "naik\n"
     ]
    }
   ],
   "source": [
    "for i in l1 :\n",
    "    if i == \"sharma\":\n",
    "        continue\n",
    "    print(i)"
   ]
  },
  {
   "cell_type": "code",
   "execution_count": 31,
   "id": "dce75666-76c3-41c1-a65e-127975d456c0",
   "metadata": {},
   "outputs": [
    {
     "name": "stdout",
     "output_type": "stream",
     "text": [
      "sidd\n",
      "krish\n",
      "naik\n",
      "execute this if for loop is able to complete itself\n"
     ]
    }
   ],
   "source": [
    "for i in l1 :\n",
    "    if i == \"sharma\":\n",
    "        continue\n",
    "    print(i)\n",
    "else :\n",
    "    print(\"execute this if for loop is able to complete itself\")"
   ]
  },
  {
   "cell_type": "code",
   "execution_count": 32,
   "id": "fef2fd2a-b1e4-4342-a7ea-622413c84cc4",
   "metadata": {},
   "outputs": [
    {
     "data": {
      "text/plain": [
       "range(0, 5)"
      ]
     },
     "execution_count": 32,
     "metadata": {},
     "output_type": "execute_result"
    }
   ],
   "source": [
    "range(5)"
   ]
  },
  {
   "cell_type": "code",
   "execution_count": 33,
   "id": "5f61cda9-7a3a-429f-900d-61d450cfb00c",
   "metadata": {},
   "outputs": [
    {
     "data": {
      "text/plain": [
       "[0, 1, 2, 3, 4]"
      ]
     },
     "execution_count": 33,
     "metadata": {},
     "output_type": "execute_result"
    }
   ],
   "source": [
    "list(range(5))"
   ]
  },
  {
   "cell_type": "code",
   "execution_count": 34,
   "id": "a71409ff-41bc-4071-99d8-5f14801b9e7d",
   "metadata": {},
   "outputs": [
    {
     "data": {
      "text/plain": [
       "[0, 1, 2, 3, 4]"
      ]
     },
     "execution_count": 34,
     "metadata": {},
     "output_type": "execute_result"
    }
   ],
   "source": [
    "list(range(0,5,1))"
   ]
  },
  {
   "cell_type": "code",
   "execution_count": 35,
   "id": "2e00ad76-6d32-4c88-bc98-37e5fb6b3d5f",
   "metadata": {},
   "outputs": [
    {
     "data": {
      "text/plain": [
       "[0, 2, 4, 6, 8, 10, 12, 14, 16, 18]"
      ]
     },
     "execution_count": 35,
     "metadata": {},
     "output_type": "execute_result"
    }
   ],
   "source": [
    "list(range(0,20,2))"
   ]
  },
  {
   "cell_type": "code",
   "execution_count": 36,
   "id": "62284480-e977-4793-b2c5-bbea4632dfed",
   "metadata": {},
   "outputs": [
    {
     "data": {
      "text/plain": [
       "[-10, -9, -8, -7, -6, -5, -4, -3, -2, -1]"
      ]
     },
     "execution_count": 36,
     "metadata": {},
     "output_type": "execute_result"
    }
   ],
   "source": [
    "list(range(-10,0))"
   ]
  },
  {
   "cell_type": "code",
   "execution_count": 39,
   "id": "5b57fd79-71ac-4b0b-9566-6776c6dc1f8c",
   "metadata": {},
   "outputs": [
    {
     "data": {
      "text/plain": [
       "['sidd', 'sharma', 'krish', 'naik']"
      ]
     },
     "execution_count": 39,
     "metadata": {},
     "output_type": "execute_result"
    }
   ],
   "source": [
    "l1"
   ]
  },
  {
   "cell_type": "code",
   "execution_count": 40,
   "id": "bb9f2f8e-407e-4173-a615-322de8b73896",
   "metadata": {},
   "outputs": [
    {
     "data": {
      "text/plain": [
       "4"
      ]
     },
     "execution_count": 40,
     "metadata": {},
     "output_type": "execute_result"
    }
   ],
   "source": [
    "len(l1)"
   ]
  },
  {
   "cell_type": "code",
   "execution_count": 44,
   "id": "d2faef79-134d-4956-87a6-bbf172346d05",
   "metadata": {},
   "outputs": [
    {
     "data": {
      "text/plain": [
       "[0, 1, 2, 3]"
      ]
     },
     "execution_count": 44,
     "metadata": {},
     "output_type": "execute_result"
    }
   ],
   "source": [
    "list(range(len(l1)))"
   ]
  },
  {
   "cell_type": "code",
   "execution_count": 46,
   "id": "918b225c-5a48-4ef6-84a4-a6b1c90159e4",
   "metadata": {},
   "outputs": [
    {
     "name": "stdout",
     "output_type": "stream",
     "text": [
      "sidd\n",
      "sharma\n",
      "krish\n",
      "naik\n"
     ]
    }
   ],
   "source": [
    "for i in range(len(l1)):\n",
    "    print(l1[i])"
   ]
  },
  {
   "cell_type": "code",
   "execution_count": 48,
   "id": "71e7966f-38a7-435a-8bcf-faba54c81823",
   "metadata": {},
   "outputs": [
    {
     "data": {
      "text/plain": [
       "4"
      ]
     },
     "execution_count": 48,
     "metadata": {},
     "output_type": "execute_result"
    }
   ],
   "source": [
    "len(l1)"
   ]
  },
  {
   "cell_type": "code",
   "execution_count": 53,
   "id": "87e7290e-9a9d-4572-bf44-401159e2084f",
   "metadata": {},
   "outputs": [
    {
     "data": {
      "text/plain": [
       "[3, 2, 1, 0]"
      ]
     },
     "execution_count": 53,
     "metadata": {},
     "output_type": "execute_result"
    }
   ],
   "source": [
    "list(range(len(l1)-1,-1,-1))"
   ]
  },
  {
   "cell_type": "code",
   "execution_count": 51,
   "id": "678cb404-0a6c-4c90-8547-89535a2eb689",
   "metadata": {},
   "outputs": [
    {
     "data": {
      "text/plain": [
       "['sidd', 'sharma', 'krish', 'naik']"
      ]
     },
     "execution_count": 51,
     "metadata": {},
     "output_type": "execute_result"
    }
   ],
   "source": [
    "l1"
   ]
  },
  {
   "cell_type": "code",
   "execution_count": 55,
   "id": "6bbb7e9f-c376-45f7-aef5-7968ae3315c8",
   "metadata": {},
   "outputs": [
    {
     "name": "stdout",
     "output_type": "stream",
     "text": [
      "naik\n",
      "krish\n",
      "sharma\n",
      "sidd\n"
     ]
    }
   ],
   "source": [
    "for i in range(len(l1)-1,-1,-1):\n",
    "    print(l1[i])"
   ]
  },
  {
   "cell_type": "code",
   "execution_count": 57,
   "id": "21ae642e-1d56-4e68-8058-951216a34762",
   "metadata": {},
   "outputs": [],
   "source": [
    "l2 = [23,5,45,56,6,67,67,78,87,8998,9,9,8]"
   ]
  },
  {
   "cell_type": "code",
   "execution_count": 59,
   "id": "380050cb-87c4-4a52-adbe-403110fa064e",
   "metadata": {},
   "outputs": [
    {
     "data": {
      "text/plain": [
       "[0, 2, 4, 6, 8, 10, 12]"
      ]
     },
     "execution_count": 59,
     "metadata": {},
     "output_type": "execute_result"
    }
   ],
   "source": [
    "list(range(0 ,len(l2) ,2))"
   ]
  },
  {
   "cell_type": "code",
   "execution_count": 60,
   "id": "103ad816-8c9d-44a8-ac9e-4e4631c1bc32",
   "metadata": {},
   "outputs": [
    {
     "name": "stdout",
     "output_type": "stream",
     "text": [
      "23\n",
      "45\n",
      "6\n",
      "67\n",
      "87\n",
      "9\n",
      "8\n"
     ]
    }
   ],
   "source": [
    "for i in range(0 ,len(l2) , 2):\n",
    "    print(l2[i])"
   ]
  },
  {
   "cell_type": "code",
   "execution_count": 61,
   "id": "86da980b-1555-45d1-a3aa-c1d405b4fe2e",
   "metadata": {},
   "outputs": [
    {
     "data": {
      "text/plain": [
       "23"
      ]
     },
     "execution_count": 61,
     "metadata": {},
     "output_type": "execute_result"
    }
   ],
   "source": [
    "l2[0]"
   ]
  },
  {
   "cell_type": "code",
   "execution_count": 62,
   "id": "09a48220-c326-47e4-b4dd-38266ff1516a",
   "metadata": {},
   "outputs": [],
   "source": [
    "l = [1,2,3,4,7,8,98]"
   ]
  },
  {
   "cell_type": "code",
   "execution_count": 63,
   "id": "5db77ffc-ae7e-47f5-8219-bbb414f2f929",
   "metadata": {},
   "outputs": [
    {
     "data": {
      "text/plain": [
       "123"
      ]
     },
     "execution_count": 63,
     "metadata": {},
     "output_type": "execute_result"
    }
   ],
   "source": [
    "sum(l)"
   ]
  },
  {
   "cell_type": "code",
   "execution_count": 65,
   "id": "a2be4fcf-dc20-4bcd-abf2-511021db6c5e",
   "metadata": {},
   "outputs": [
    {
     "data": {
      "text/plain": [
       "123"
      ]
     },
     "execution_count": 65,
     "metadata": {},
     "output_type": "execute_result"
    }
   ],
   "source": [
    "result = 0\n",
    "for i in l :\n",
    "    result = result+ i\n",
    "result"
   ]
  },
  {
   "cell_type": "code",
   "execution_count": 70,
   "id": "9b94ef94-ba27-48d7-a0a9-784f9b00cf4c",
   "metadata": {},
   "outputs": [],
   "source": [
    "t = (1,2,3,4,4,5)"
   ]
  },
  {
   "cell_type": "code",
   "execution_count": 71,
   "id": "28250f82-a8e4-41f9-8dbb-324ecc419425",
   "metadata": {},
   "outputs": [
    {
     "name": "stdout",
     "output_type": "stream",
     "text": [
      "1\n",
      "2\n",
      "3\n",
      "4\n",
      "4\n",
      "5\n"
     ]
    }
   ],
   "source": [
    "for i in t:\n",
    "    print(i)"
   ]
  },
  {
   "cell_type": "code",
   "execution_count": 72,
   "id": "6b6b9ea8-c220-4f99-b5ba-58b72bc752d5",
   "metadata": {},
   "outputs": [
    {
     "data": {
      "text/plain": [
       "19"
      ]
     },
     "execution_count": 72,
     "metadata": {},
     "output_type": "execute_result"
    }
   ],
   "source": [
    "result = 0\n",
    "for i in t :\n",
    "    result = result+ i\n",
    "result"
   ]
  },
  {
   "cell_type": "code",
   "execution_count": 73,
   "id": "0915d514-e0ee-402e-8d90-8cd17b38904b",
   "metadata": {},
   "outputs": [],
   "source": [
    "s = {1,2,3,4,5 ,\"sidd\" , \"pwskills\"}"
   ]
  },
  {
   "cell_type": "code",
   "execution_count": 74,
   "id": "b8056939-3ad3-4b1a-8bad-0a9d38608f24",
   "metadata": {},
   "outputs": [
    {
     "name": "stdout",
     "output_type": "stream",
     "text": [
      "1\n",
      "2\n",
      "3\n",
      "4\n",
      "5\n",
      "sidd\n",
      "pwskills\n"
     ]
    }
   ],
   "source": [
    "for i in s:\n",
    "    print(i)"
   ]
  },
  {
   "cell_type": "code",
   "execution_count": 75,
   "id": "31a9e49a-334c-4331-886c-c91e6245bcca",
   "metadata": {},
   "outputs": [],
   "source": [
    "s1 = \"pwskills\""
   ]
  },
  {
   "cell_type": "code",
   "execution_count": 76,
   "id": "9bd3e2f3-9b0a-47d9-a9c6-d0ef059fd9b5",
   "metadata": {},
   "outputs": [
    {
     "name": "stdout",
     "output_type": "stream",
     "text": [
      "p\n",
      "w\n",
      "s\n",
      "k\n",
      "i\n",
      "l\n",
      "l\n",
      "s\n"
     ]
    }
   ],
   "source": [
    "for i in s1: \n",
    "    print(i)"
   ]
  },
  {
   "cell_type": "code",
   "execution_count": 77,
   "id": "17f0b739-525c-4954-8a72-d7f0c28bedb8",
   "metadata": {},
   "outputs": [],
   "source": [
    "d = {\"name\" : \"sidd\" , \"class\" : \"data science masters\" , \"topic\" : [\"python\",\"stats\",\"machine learning\",\"DL\",\"CV\",\"NLP\",\"resume\",\"interview\"]}"
   ]
  },
  {
   "cell_type": "code",
   "execution_count": 78,
   "id": "1cce4a94-b07c-4bf5-ba5b-06f00496b9ea",
   "metadata": {},
   "outputs": [
    {
     "data": {
      "text/plain": [
       "{'name': 'sidd',\n",
       " 'class': 'data science masters',\n",
       " 'topic': ['python',\n",
       "  'stats',\n",
       "  'machine learning',\n",
       "  'DL',\n",
       "  'CV',\n",
       "  'NLP',\n",
       "  'resume',\n",
       "  'interview']}"
      ]
     },
     "execution_count": 78,
     "metadata": {},
     "output_type": "execute_result"
    }
   ],
   "source": [
    "d"
   ]
  },
  {
   "cell_type": "code",
   "execution_count": 79,
   "id": "074f5e61-33fd-48d5-abfc-31f6bc3e8cec",
   "metadata": {},
   "outputs": [
    {
     "data": {
      "text/plain": [
       "dict_keys(['name', 'class', 'topic'])"
      ]
     },
     "execution_count": 79,
     "metadata": {},
     "output_type": "execute_result"
    }
   ],
   "source": [
    "d.keys()"
   ]
  },
  {
   "cell_type": "code",
   "execution_count": 80,
   "id": "bbeb77a7-e877-4881-86ee-bc120374a57a",
   "metadata": {},
   "outputs": [
    {
     "name": "stdout",
     "output_type": "stream",
     "text": [
      "sidd\n",
      "data science masters\n",
      "['python', 'stats', 'machine learning', 'DL', 'CV', 'NLP', 'resume', 'interview']\n"
     ]
    }
   ],
   "source": [
    "for i in d.keys():\n",
    "    print(d[i])"
   ]
  },
  {
   "cell_type": "code",
   "execution_count": 81,
   "id": "7c229d58-2ef2-4c36-aa0f-7b97ed2dac9d",
   "metadata": {},
   "outputs": [
    {
     "data": {
      "text/plain": [
       "dict_values(['sidd', 'data science masters', ['python', 'stats', 'machine learning', 'DL', 'CV', 'NLP', 'resume', 'interview']])"
      ]
     },
     "execution_count": 81,
     "metadata": {},
     "output_type": "execute_result"
    }
   ],
   "source": [
    "d.values()"
   ]
  },
  {
   "cell_type": "code",
   "execution_count": 83,
   "id": "6848927e-99ef-427a-bbe1-8e74dce18cfd",
   "metadata": {},
   "outputs": [
    {
     "name": "stdout",
     "output_type": "stream",
     "text": [
      "sidd\n",
      "data science masters\n",
      "['python', 'stats', 'machine learning', 'DL', 'CV', 'NLP', 'resume', 'interview']\n"
     ]
    }
   ],
   "source": [
    "for i in d.values():\n",
    "    print(i)"
   ]
  },
  {
   "cell_type": "code",
   "execution_count": 84,
   "id": "329a5d5d-a8aa-4c8a-9dec-72b61f57431b",
   "metadata": {},
   "outputs": [
    {
     "data": {
      "text/plain": [
       "dict_items([('name', 'sidd'), ('class', 'data science masters'), ('topic', ['python', 'stats', 'machine learning', 'DL', 'CV', 'NLP', 'resume', 'interview'])])"
      ]
     },
     "execution_count": 84,
     "metadata": {},
     "output_type": "execute_result"
    }
   ],
   "source": [
    "d.items()"
   ]
  },
  {
   "cell_type": "code",
   "execution_count": null,
   "id": "3c142204-e251-4b1d-a4f8-9cf840fccfbd",
   "metadata": {},
   "outputs": [],
   "source": [
    "for i in "
   ]
  }
 ],
 "metadata": {
  "kernelspec": {
   "display_name": "Python 3 (ipykernel)",
   "language": "python",
   "name": "python3"
  },
  "language_info": {
   "codemirror_mode": {
    "name": "ipython",
    "version": 3
   },
   "file_extension": ".py",
   "mimetype": "text/x-python",
   "name": "python",
   "nbconvert_exporter": "python",
   "pygments_lexer": "ipython3",
   "version": "3.10.8"
  }
 },
 "nbformat": 4,
 "nbformat_minor": 5
}
